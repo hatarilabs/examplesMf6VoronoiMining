{
 "cells": [
  {
   "cell_type": "code",
   "execution_count": 1,
   "id": "e8e6b072",
   "metadata": {},
   "outputs": [
    {
     "name": "stderr",
     "output_type": "stream",
     "text": [
      "c:\\Users\\saulm\\anaconda3\\Lib\\site-packages\\pyvista\\examples\\downloads.py:93: DeprecationWarning: support for supplying keyword arguments to pathlib.PurePath is deprecated and scheduled for removal in Python 3.14\n",
      "  Path(USER_DATA_PATH, exist_ok=True).mkdir()\n",
      "c:\\Users\\saulm\\anaconda3\\Lib\\site-packages\\pyvista\\examples\\downloads.py:98: UserWarning: Unable to access C:\\Users\\saulm\\AppData\\Local\\pyvista_3\\pyvista_3\\Cache. Manually specify the PyVistaexamples cache with the PYVISTA_USERDATA_PATH environment variable.\n",
      "  warnings.warn(\n"
     ]
    }
   ],
   "source": [
    "#Basic lines for transport modeling\n",
    "import flopy ## Org\n",
    "import json, os ## Org\n",
    "import numpy as np ## Org\n",
    "import geopandas as gpd ## Org\n",
    "import matplotlib.pyplot as plt ## Org\n",
    "from mf6Voronoi.tools.cellWork import getCellFromGeom, getLayCellElevTupleFromRaster, getLayCellElevTupleFromObs ## Org"
   ]
  },
  {
   "cell_type": "code",
   "execution_count": 2,
   "id": "a7d9f337",
   "metadata": {},
   "outputs": [
    {
     "name": "stdout",
     "output_type": "stream",
     "text": [
      "loading simulation...\n",
      "  loading simulation name file...\n",
      "  loading tdis package...\n",
      "  loading model gwf6...\n",
      "    loading package disv...\n",
      "    loading package ic...\n",
      "    loading package npf...\n",
      "    loading package sto...\n",
      "    loading package rch...\n",
      "    loading package evt...\n",
      "    loading package drn...\n",
      "    loading package oc...\n",
      "  loading solution package mf6model...\n"
     ]
    }
   ],
   "source": [
    "# load simulation\n",
    "simName = 'mf6Sim' ## Org\n",
    "modelName = 'mf6Model' ## Org \n",
    "modelWs = os.path.abspath('../../Session3/modelFiles') ## Org\n",
    "sim = flopy.mf6.MFSimulation.load(sim_name=modelName, version='mf6', ## Org\n",
    "                             exe_name='../../Bin/mf6.exe', ## Org\n",
    "                             sim_ws=modelWs) ## Org"
   ]
  },
  {
   "cell_type": "code",
   "execution_count": 3,
   "id": "64490613",
   "metadata": {},
   "outputs": [],
   "source": [
    "#select the flow model\n",
    "gwf = sim.get_model('mf6model') ## Org"
   ]
  },
  {
   "cell_type": "code",
   "execution_count": 4,
   "id": "a3ea5f01",
   "metadata": {},
   "outputs": [
    {
     "data": {
      "text/plain": [
       "[(0, 0)]"
      ]
     },
     "execution_count": 4,
     "metadata": {},
     "output_type": "execute_result"
    }
   ],
   "source": [
    "headObj = gwf.output.head() ## Org\n",
    "headObj.get_kstpkper() ## Org"
   ]
  },
  {
   "cell_type": "code",
   "execution_count": 5,
   "id": "625678c0",
   "metadata": {},
   "outputs": [
    {
     "data": {
      "text/plain": [
       "array([4031.04817077, 4000.66466619, 4037.84874633, 3999.09431713,\n",
       "       3997.88956839])"
      ]
     },
     "execution_count": 5,
     "metadata": {},
     "output_type": "execute_result"
    }
   ],
   "source": [
    "heads = headObj.get_data() ## Org\n",
    "heads[2,0,:5] ## O"
   ]
  },
  {
   "cell_type": "code",
   "execution_count": 6,
   "id": "0ad346e4",
   "metadata": {},
   "outputs": [
    {
     "name": "stdout",
     "output_type": "stream",
     "text": [
      "WARNING: No head on vextex was found, or something went wrong with your mesh\n",
      "WARNING: No head on vextex was found, or something went wrong with your mesh\n",
      "Raster X Dim: 7527.50, Raster Y Dim: 5527.50\n",
      "Number of cols:  753, Number of rows: 553\n"
     ]
    }
   ],
   "source": [
    "from mf6Voronoi.tools.graphs2d import generateRasterFromArray ## <==== updated\n",
    "waterTable = flopy.utils.postprocessing.get_water_table(heads)\n",
    "generateRasterFromArray(gwf, \n",
    "                        waterTable, \n",
    "                        meshLayer='../output/tailingsStorage.shp', \n",
    "                        rasterRes=10, \n",
    "                        epsg=32718, \n",
    "                        outputPath='../output/waterTable.tif')"
   ]
  }
 ],
 "metadata": {
  "kernelspec": {
   "display_name": "base",
   "language": "python",
   "name": "python3"
  },
  "language_info": {
   "codemirror_mode": {
    "name": "ipython",
    "version": 3
   },
   "file_extension": ".py",
   "mimetype": "text/x-python",
   "name": "python",
   "nbconvert_exporter": "python",
   "pygments_lexer": "ipython3",
   "version": "3.12.7"
  }
 },
 "nbformat": 4,
 "nbformat_minor": 5
}
