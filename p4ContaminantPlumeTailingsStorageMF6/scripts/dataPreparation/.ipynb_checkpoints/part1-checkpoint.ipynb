{
 "cells": [
  {
   "cell_type": "code",
   "execution_count": 1,
   "id": "8d005d56",
   "metadata": {},
   "outputs": [],
   "source": [
    "#!pip install hatariTools\n",
    "from hatariTools.geospatialTools.rasterTools import modifyRasterwithRasterOnMask, modifyRasterwithElevOnMask"
   ]
  },
  {
   "cell_type": "code",
   "execution_count": 2,
   "id": "276c7efa",
   "metadata": {},
   "outputs": [],
   "source": [
    "wholeRasterPath = \"../../rst/tsfDem10m.tif\"\n",
    "partialRasterPath = \"../../rst/damElevation_v3.tif\"\n",
    "maskLayerPath = \"../../shp/tsf/damEnvelope_v2.shp\"\n",
    "modifiedRasterPath = \"../../rst/demWithDam.tif\""
   ]
  },
  {
   "cell_type": "code",
   "execution_count": 3,
   "id": "a2cd0cd1",
   "metadata": {},
   "outputs": [],
   "source": [
    "modifyRasterwithRasterOnMask(wholeRasterPath,\n",
    "                             partialRasterPath,\n",
    "                             maskLayerPath,\n",
    "                             modifiedRasterPath)"
   ]
  },
  {
   "cell_type": "code",
   "execution_count": 11,
   "id": "be099a09",
   "metadata": {},
   "outputs": [],
   "source": [
    "wholeRasterPath = \"../../rst/demWithDam.tif\"\n",
    "elevValue = 670\n",
    "maskLayerPath = \"../../shp/tsf/tailingsEnvelope_v2.shp\"\n",
    "modifiedRasterPath = \"../../rst/demWithDamAndTailings.tif\""
   ]
  },
  {
   "cell_type": "code",
   "execution_count": 13,
   "id": "c188a4e5",
   "metadata": {},
   "outputs": [],
   "source": [
    "modifyRasterwithElevOnMask(wholeRasterPath,\n",
    "                           elevValue,\n",
    "                           maskLayerPath,\n",
    "                           modifiedRasterPath)"
   ]
  }
 ],
 "metadata": {
  "kernelspec": {
   "display_name": "Python [conda env:base] *",
   "language": "python",
   "name": "conda-base-py"
  },
  "language_info": {
   "codemirror_mode": {
    "name": "ipython",
    "version": 3
   },
   "file_extension": ".py",
   "mimetype": "text/x-python",
   "name": "python",
   "nbconvert_exporter": "python",
   "pygments_lexer": "ipython3",
   "version": "3.12.7"
  }
 },
 "nbformat": 4,
 "nbformat_minor": 5
}
