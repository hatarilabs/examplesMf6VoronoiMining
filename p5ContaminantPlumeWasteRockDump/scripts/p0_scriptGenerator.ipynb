{
 "cells": [
  {
   "cell_type": "code",
   "execution_count": 2,
   "id": "b01c8cfb",
   "metadata": {},
   "outputs": [
    {
     "name": "stderr",
     "output_type": "stream",
     "text": [
      "c:\\Users\\saulm\\anaconda3\\Lib\\site-packages\\pyvista\\examples\\downloads.py:98: UserWarning: Unable to access C:\\Users\\saulm\\AppData\\Local\\pyvista_3\\pyvista_3\\Cache. Manually specify the PyVistaexamples cache with the PYVISTA_USERDATA_PATH environment variable.\n",
      "  warnings.warn(\n"
     ]
    }
   ],
   "source": [
    "from mf6Voronoi.utils import listTemplates, copyTemplate"
   ]
  },
  {
   "cell_type": "code",
   "execution_count": 2,
   "id": "540396fd",
   "metadata": {},
   "outputs": [
    {
     "name": "stdout",
     "output_type": "stream",
     "text": [
      "/-------- List of available mf6Voronoi templates --------/\n",
      "\n",
      "Nr 1: generateVoronoi\n",
      "    File: p1_generateVoronoi.ipynb\n",
      "    Description: Template for Voronoi mesh generation\n",
      "\n",
      "Nr 2: modelCreation\n",
      "    File: p2_modelCreation.ipynb\n",
      "    Description: Template for regional model creation on steady state\n",
      "\n",
      "Nr 3: obsCalculated\n",
      "    File: p3_obsCalculated.ipynb\n",
      "    Description: Template for comparison between observed and calculated\n",
      "\n",
      "Nr 4: vtkGeneration\n",
      "    File: p4_vtkGeneration.ipynb\n",
      "    Description: Template for 3d geometry generation on Vtk format\n",
      "\n",
      "Nr 5: multilayeredTransient\n",
      "    File: p5_multilayeredTransient.ipynb\n",
      "    Description: Template for multilayeres (15 layers) and transient (6 stress periods) regional model\n",
      "\n",
      "Nr 6: basicTransport\n",
      "    File: p6_basicTransport.ipynb\n",
      "    Description: Template with basic lines for transport modeling based on a flow model\n",
      "\n"
     ]
    }
   ],
   "source": [
    "listTemplates()"
   ]
  },
  {
   "cell_type": "code",
   "execution_count": 3,
   "id": "7d25fa98",
   "metadata": {},
   "outputs": [],
   "source": [
    "copyTemplate('generateVoronoi','dump')"
   ]
  },
  {
   "cell_type": "code",
   "execution_count": 4,
   "id": "81e5c0be",
   "metadata": {},
   "outputs": [],
   "source": [
    "copyTemplate('modelCreation','dump')"
   ]
  },
  {
   "cell_type": "code",
   "execution_count": 5,
   "id": "c84525ea",
   "metadata": {},
   "outputs": [],
   "source": [
    "copyTemplate('basicTransport','dump')"
   ]
  },
  {
   "cell_type": "code",
   "execution_count": 3,
   "id": "0c7658a7",
   "metadata": {},
   "outputs": [],
   "source": [
    "copyTemplate('vtkGeneration','dump')"
   ]
  },
  {
   "cell_type": "code",
   "execution_count": null,
   "id": "3e70f58a",
   "metadata": {},
   "outputs": [],
   "source": []
  }
 ],
 "metadata": {
  "kernelspec": {
   "display_name": "base",
   "language": "python",
   "name": "python3"
  },
  "language_info": {
   "codemirror_mode": {
    "name": "ipython",
    "version": 3
   },
   "file_extension": ".py",
   "mimetype": "text/x-python",
   "name": "python",
   "nbconvert_exporter": "python",
   "pygments_lexer": "ipython3",
   "version": "3.12.7"
  }
 },
 "nbformat": 4,
 "nbformat_minor": 5
}
