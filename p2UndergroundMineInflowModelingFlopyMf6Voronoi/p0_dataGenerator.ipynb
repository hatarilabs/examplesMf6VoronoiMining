{
 "cells": [
  {
   "cell_type": "code",
   "execution_count": 2,
   "id": "8495b626-e461-45d6-b867-364b1336e9e1",
   "metadata": {},
   "outputs": [
    {
     "name": "stderr",
     "output_type": "stream",
     "text": [
      "C:\\Users\\saulm\\anaconda3\\Lib\\site-packages\\paramiko\\pkey.py:82: CryptographyDeprecationWarning: TripleDES has been moved to cryptography.hazmat.decrepit.ciphers.algorithms.TripleDES and will be removed from this module in 48.0.0.\n",
      "  \"cipher\": algorithms.TripleDES,\n",
      "C:\\Users\\saulm\\anaconda3\\Lib\\site-packages\\paramiko\\transport.py:219: CryptographyDeprecationWarning: Blowfish has been moved to cryptography.hazmat.decrepit.ciphers.algorithms.Blowfish and will be removed from this module in 45.0.0.\n",
      "  \"class\": algorithms.Blowfish,\n",
      "C:\\Users\\saulm\\anaconda3\\Lib\\site-packages\\paramiko\\transport.py:243: CryptographyDeprecationWarning: TripleDES has been moved to cryptography.hazmat.decrepit.ciphers.algorithms.TripleDES and will be removed from this module in 48.0.0.\n",
      "  \"class\": algorithms.TripleDES,\n",
      "C:\\Users\\saulm\\anaconda3\\Lib\\site-packages\\pyvista\\examples\\downloads.py:98: UserWarning: Unable to access C:\\Users\\saulm\\AppData\\Local\\pyvista_3\\pyvista_3\\Cache. Manually specify the PyVistaexamples cache with the PYVISTA_USERDATA_PATH environment variable.\n",
      "  warnings.warn(\n"
     ]
    }
   ],
   "source": [
    "from mf6Voronoi.utils import copyTemplate\n",
    "copyTemplate('generateVoronoi','ugMine')\n",
    "copyTemplate('modelCreation','ugMine')"
   ]
  },
  {
   "cell_type": "code",
   "execution_count": null,
   "id": "5edfa86b-8951-4e1e-9d67-d7eb63f1a9b3",
   "metadata": {},
   "outputs": [],
   "source": []
  }
 ],
 "metadata": {
  "kernelspec": {
   "display_name": "Python [conda env:base] *",
   "language": "python",
   "name": "conda-base-py"
  },
  "language_info": {
   "codemirror_mode": {
    "name": "ipython",
    "version": 3
   },
   "file_extension": ".py",
   "mimetype": "text/x-python",
   "name": "python",
   "nbconvert_exporter": "python",
   "pygments_lexer": "ipython3",
   "version": "3.12.7"
  }
 },
 "nbformat": 4,
 "nbformat_minor": 5
}
