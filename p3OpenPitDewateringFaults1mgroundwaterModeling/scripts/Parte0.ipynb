{
 "cells": [
  {
   "cell_type": "code",
   "execution_count": 1,
   "id": "4bf89937-fd2e-49c2-a9a9-a0bbf719f275",
   "metadata": {},
   "outputs": [],
   "source": [
    "from mf6Voronoi.utils import listTemplates, copyTemplate"
   ]
  },
  {
   "cell_type": "code",
   "execution_count": 2,
   "id": "b0bfb19d-640e-4c67-871a-b34f31c036f4",
   "metadata": {},
   "outputs": [
    {
     "name": "stdout",
     "output_type": "stream",
     "text": [
      "/-------- List of available mf6Voronoi templates --------/\n",
      "\n",
      "Nr 1: generateVoronoi\n",
      "    File: p1_generateVoronoi.ipynb\n",
      "    Description: Template for Voronoi mesh generation\n",
      "\n",
      "Nr 2: modelCreation\n",
      "    File: p2_modelCreation.ipynb\n",
      "    Description: Template for regional model creation on steady state\n",
      "\n",
      "Nr 3: obsCalculated\n",
      "    File: p3_obsCalculated.ipynb\n",
      "    Description: Template for comparison between observed and calculated\n",
      "\n",
      "Nr 4: vtkGeneration\n",
      "    File: p4_vtkGeneration.ipynb\n",
      "    Description: Template for 3d geometry generation on Vtk format\n",
      "\n",
      "Nr 5: multilayeredTransient\n",
      "    File: p5_multilayeredTransient.ipynb\n",
      "    Description: Template for multilayeres (15 layers) and transient (6 stress periods) regional model\n",
      "\n",
      "Nr 6: basicTransport\n",
      "    File: p6_basicTransport.ipynb\n",
      "    Description: Template with basic lines for transport modeling based on a flow model\n",
      "\n"
     ]
    }
   ],
   "source": [
    "listTemplates()"
   ]
  },
  {
   "cell_type": "code",
   "execution_count": 3,
   "id": "1d8e65f1-55a3-41f5-9fb6-2730fe8bb209",
   "metadata": {},
   "outputs": [],
   "source": [
    "copyTemplate('generateVoronoi','tajo')"
   ]
  },
  {
   "cell_type": "code",
   "execution_count": 4,
   "id": "2c01d5e9-b2e1-4033-aabf-8517da7c299f",
   "metadata": {},
   "outputs": [],
   "source": [
    "copyTemplate('multilayeredTransient','tajo')"
   ]
  },
  {
   "cell_type": "code",
   "execution_count": 5,
   "id": "c38b770f-63f7-4837-a8c6-ccb330ee67f7",
   "metadata": {},
   "outputs": [],
   "source": [
    "copyTemplate('vtkGeneration','tajo')"
   ]
  },
  {
   "cell_type": "code",
   "execution_count": null,
   "id": "ff7578c4-c421-4a99-b2dd-466ce9266b62",
   "metadata": {},
   "outputs": [],
   "source": []
  }
 ],
 "metadata": {
  "kernelspec": {
   "display_name": "Python [conda env:base] *",
   "language": "python",
   "name": "conda-base-py"
  },
  "language_info": {
   "codemirror_mode": {
    "name": "ipython",
    "version": 3
   },
   "file_extension": ".py",
   "mimetype": "text/x-python",
   "name": "python",
   "nbconvert_exporter": "python",
   "pygments_lexer": "ipython3",
   "version": "3.12.7"
  }
 },
 "nbformat": 4,
 "nbformat_minor": 5
}
